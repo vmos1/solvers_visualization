{
 "cells": [
  {
   "cell_type": "markdown",
   "id": "150409bb-1252-4a48-9168-30eb979eb3ac",
   "metadata": {},
   "source": [
    "# Studying Solvers performance: Jacobi vs Gauss-Seidel vs Conjugate Gradient in 1D \n",
    "Mar 28, 2022\n",
    "Venkitesh Ayyar"
   ]
  },
  {
   "cell_type": "code",
   "execution_count": 1,
   "id": "cabb42ce-5467-499c-a6c3-917835e18dd6",
   "metadata": {},
   "outputs": [],
   "source": [
    "import numpy as np\n",
    "import scipy as sc\n",
    "import matplotlib.pyplot as plt\n"
   ]
  },
  {
   "cell_type": "code",
   "execution_count": 2,
   "id": "4f7b1ef5-5710-4daf-baba-c8ed44703603",
   "metadata": {},
   "outputs": [],
   "source": [
    "%matplotlib widget"
   ]
  },
  {
   "cell_type": "markdown",
   "id": "45d76e12-3ab5-4a35-a7b2-d1c4e5c4b07f",
   "metadata": {},
   "source": [
    "## 1D"
   ]
  },
  {
   "cell_type": "code",
   "execution_count": 3,
   "id": "a623e695-18a2-4c7d-aff4-9bd50c4cc345",
   "metadata": {},
   "outputs": [],
   "source": [
    "N=16; max_iters=100;m=0.1;\n",
    "scale=2.0+m**2.0 ## Diagonal value"
   ]
  },
  {
   "cell_type": "code",
   "execution_count": 4,
   "id": "eb404538-ff40-4e31-9ddf-181ebf6b8543",
   "metadata": {},
   "outputs": [],
   "source": [
    "A=np.zeros((N,N),dtype=np.float64)\n",
    "b=np.zeros(N,dtype=np.float64)\n",
    "b[N//2-1]=1.0"
   ]
  },
  {
   "cell_type": "code",
   "execution_count": 19,
   "id": "597a7be6-cff6-4214-bf84-fbb2920229c9",
   "metadata": {},
   "outputs": [],
   "source": [
    "# Generate Laplace matrix\n",
    "def f_laplace(i,j,m):\n",
    "    if i==j: ans=scale\n",
    "    elif (abs(i-j)==1 or abs(i-j)==N-1): ans=-1.0\n",
    "    else: ans=0.0\n",
    "    \n",
    "    return ans\n",
    "\n",
    "for i in range(N):\n",
    "    for j in range(N):\n",
    "        A[i,j]=f_laplace(i,j,m)\n"
   ]
  },
  {
   "cell_type": "code",
   "execution_count": 6,
   "id": "c8844e80-f882-4170-a6ad-0a10db508de5",
   "metadata": {},
   "outputs": [
    {
     "name": "stdout",
     "output_type": "stream",
     "text": [
      "\n",
      "Is residue zero?  True\n"
     ]
    }
   ],
   "source": [
    "## Solving correctly using inverse\n",
    "a_inv=np.linalg.inv(A)\n",
    "x_exact=np.dot(a_inv,b)\n",
    "# print(\"Actual solution from inversion\",x_exact)\n",
    "\n",
    "## Check if solution is correct\n",
    "print(\"\\nIs residue zero? \",np.allclose(np.dot(A,x_exact),b))"
   ]
  },
  {
   "cell_type": "markdown",
   "id": "9693f9e8-a859-488d-99e0-881b36fe14d9",
   "metadata": {
    "tags": []
   },
   "source": [
    "### Jacobi method\n",
    "A = D + (L + U)\n",
    "\n",
    "$ x^{k+1} = D ^{-1} \\left( \\mathbf{b} - (L + U) \\mathbf{x} ^{k} \\right)  $ \n",
    "\n",
    "$$ x_{i}^{k+1} = \\frac{1}{A_{ii}} \\left( b_i - \\sum_{j=1; j \\neq i}^{N} A_{ij} x^{k}_j \\right) $$"
   ]
  },
  {
   "cell_type": "code",
   "execution_count": 7,
   "id": "8d22f780-7aae-4e21-976d-2f8ce40aad1f",
   "metadata": {
    "tags": []
   },
   "outputs": [],
   "source": [
    "def f_jacobi_generic(A,arr_x,b,max_iters):\n",
    "    ''' Performing Jacobi Iterations'''\n",
    "    x      = arr_x[0,:].copy()  # Solution array\n",
    "    x_temp = x.copy()  # Temp array required for Jacobi\n",
    "    \n",
    "    res=b-np.dot(A,x)\n",
    "    \n",
    "    for k in range(1,max_iters):\n",
    "        for i in range(N):\n",
    "            tsum=0.0\n",
    "            for j in range(N):\n",
    "                if j!=i:  tsum+=A[i,j]*x[j]\n",
    "                \n",
    "            # Store in temp array until all are updated.\n",
    "            x_temp[i]=(b[i]-tsum) * (1.0/(A[i,i]+1e-15))    \n",
    "            \n",
    "        x=x_temp.copy()\n",
    "        arr_x[k]=x.copy() # Store value at iteration\n",
    "\n",
    "        res=b-np.dot(A,x)\n",
    "        if np.allclose(res,np.zeros(N),rtol=1e-5,atol=1e-12):\n",
    "            print(\"Quitting after {0} iterations\".format(k))\n",
    "            break\n",
    "        \n",
    "    arr_x=arr_x[:k+1,:]\n",
    "    return arr_x\n",
    "\n",
    "\n",
    "def f_jacobi(arr_x,b,diag,max_iters):\n",
    "    ''' Performing Jacobi Iterations for Laplace operator'''\n",
    "    x      = arr_x[0,:].copy()  # Solution array\n",
    "    x_temp = x.copy()  # Temp array required for Jacobi\n",
    "    \n",
    "    # Residue\n",
    "    res= [b[i] - x[i]*diag + x[(i-1+N)%N] + x[(i+1)%N] for i in range(N)]\n",
    "    \n",
    "    for k in range(1,max_iters):\n",
    "        for i in range(N):\n",
    "            # Store in temp array until all are updated.\n",
    "            x_temp[i]=(b[i]+ x[(i-1+N)%N] + x[(i+1)%N])* (1.0/diag)\n",
    "            # x_temp[i]=(b[i]-tsum) * (1.0/(A[i,i]+1e-15))    \n",
    "        x=x_temp.copy()\n",
    "        arr_x[k]=x.copy()\n",
    "\n",
    "        res=[b[i]-x[i]*diag + x[(i-1+N)%N] + x[(i+1)%N] for i in range(N)]\n",
    "        \n",
    "        if np.allclose(res,np.zeros(N),rtol=1e-5,atol=1e-12):\n",
    "            print(\"Quitting after {0} iterations\".format(k))\n",
    "            break\n",
    "    arr_x=arr_x[:k+1,:]\n",
    "\n",
    "\n",
    "    return arr_x\n"
   ]
  },
  {
   "cell_type": "code",
   "execution_count": 8,
   "id": "5586bf1a-a09e-490f-aa27-6440c02a00bd",
   "metadata": {
    "tags": []
   },
   "outputs": [
    {
     "data": {
      "text/plain": [
       "False"
      ]
     },
     "execution_count": 8,
     "metadata": {},
     "output_type": "execute_result"
    }
   ],
   "source": [
    "max_iters=2000\n",
    "x_jc=np.ones((max_iters,N),dtype=np.float64)*0.0\n",
    "# x_jc=f_jacobi_generic(A,x_jc,b,max_iters)\n",
    "x_jc=f_jacobi(x_jc,b,scale,max_iters)\n",
    "\n",
    "np.allclose(x_jc[-1],x_exact)"
   ]
  },
  {
   "cell_type": "markdown",
   "id": "bfb83b2d-4993-4834-8a35-8e5c335ba31a",
   "metadata": {},
   "source": [
    "## Gauss-Seidel method\n",
    "\n",
    "$$ x_{i}^{k+1} = \\frac{1}{A_{ii}} \\left( b_i - \\sum_j^{i-1} A_{ij} x^{k+1}_j - \\sum_{j=i+1}^n A_{ij} x_j^k \\right) $$\n"
   ]
  },
  {
   "cell_type": "code",
   "execution_count": 21,
   "id": "d954d97d-9a8f-4a95-9af3-7933ef2d2acd",
   "metadata": {},
   "outputs": [],
   "source": [
    "def f_gauss_seidel_generic(A,arr_x,b,max_iters):\n",
    "    ''' Performing Gauss_seidel Iterations'''\n",
    "\n",
    "    x=arr_x[0,:].copy() # Solution array. We're storing all solutions, so we copy this to an array.\n",
    "    \n",
    "    res=b-np.dot(A,x)\n",
    "    \n",
    "    for k in range(1,max_iters):\n",
    "        for i in range(N):\n",
    "            tsum=0.0\n",
    "            for j in range(N):\n",
    "                ## Just using the updated array is sufficient. Don't need two conditions: j<i , j<i\n",
    "                if j!=i:  tsum+=A[i,j]*x[j] \n",
    "                \n",
    "            x[i]=(b[i]-tsum) * 1.0/(A[i,i]+1e-15)\n",
    "            \n",
    "        arr_x[k]=x.copy()\n",
    "        \n",
    "        res=b-np.dot(A,x)\n",
    "        if np.allclose(res,np.zeros(N),rtol=1e-5,atol=1e-12):\n",
    "            print(\"Quitting after {0} iterations\".format(k))\n",
    "            break\n",
    "        \n",
    "    arr_x=arr_x[:k+1,:]\n",
    "    return arr_x\n",
    "\n",
    "def f_gauss_seidel(arr_x,b,diag,max_iters):\n",
    "    ''' Performing Gauss_seidel Iterations for Laplace operator'''\n",
    "    x=arr_x[0,:].copy() # Solution array. We're storing all solutions, so we copy this to an array.\n",
    "    \n",
    "    # Residue\n",
    "    res= [b[i] - x[i]*diag + x[(i-1+N)%N] + x[(i+1)%N] for i in range(N)]\n",
    "    for k in range(1,max_iters):\n",
    "        for i in range(N):\n",
    "            tsum=0.0               \n",
    "            x[i]=(b[i]+ x[(i-1+N)%N] + x[(i+1)%N])* (1.0/diag)\n",
    "        \n",
    "        arr_x[k]=x.copy()\n",
    "        res=[b[i]-x[i]*diag + x[(i-1+N)%N] + x[(i+1)%N] for i in range(N)]\n",
    "        if np.allclose(res,np.zeros(N),rtol=1e-5,atol=1e-12):\n",
    "            print(\"Quitting after {0} iterations\".format(k))\n",
    "            break\n",
    "        \n",
    "    arr_x=arr_x[:k+1,:]\n",
    "    return arr_x\n"
   ]
  },
  {
   "cell_type": "code",
   "execution_count": 22,
   "id": "962cf3ed-a38e-43dd-8f2e-cc512e8904d2",
   "metadata": {
    "tags": []
   },
   "outputs": [
    {
     "data": {
      "text/plain": [
       "True"
      ]
     },
     "execution_count": 22,
     "metadata": {},
     "output_type": "execute_result"
    }
   ],
   "source": [
    "max_iters=2000\n",
    "x_gs=np.ones((max_iters,N),dtype=np.float64)*0.0\n",
    "# x_gs=f_gauss_seidel_generic(A,x_gs,b,max_iters)\n",
    "x_gs=f_gauss_seidel(x_gs,b,scale,max_iters)\n",
    "\n",
    "np.allclose(x_gs[-1],x_exact)\n"
   ]
  },
  {
   "cell_type": "markdown",
   "id": "8ce3cbc7-75fc-4b16-9892-8b7e7ae63541",
   "metadata": {},
   "source": [
    "## Conjugate gradient\n",
    "\n",
    "$$ \\alpha_k = \\frac{r_k^T r_k}{p_k ^ T A p_k} $$\n",
    "\n",
    "$$ \\beta_k = \\frac{r_{k+1}^T A p_k}{p_k^T A p_k} $$\n",
    "\n",
    "$$ x_{k+1} = x_k + \\alpha_k p_k $$ \n",
    "\n",
    "$$ r_{k+1} = r_k - \\alpha_k A p_k $$\n",
    "\n",
    "$$ p_{k+1} = r_{k+1} + \\beta_k p_k $$"
   ]
  },
  {
   "cell_type": "code",
   "execution_count": 11,
   "id": "87ae35fe-8353-45a6-87e9-a46064717a62",
   "metadata": {},
   "outputs": [],
   "source": [
    "## Conjugate gradient\n",
    "def f_cg_generic(A,arr_x,b,max_iters):\n",
    "\n",
    "    x_old=arr_x[0,:].copy()\n",
    "    r_old=b-np.dot(A,x_old)\n",
    "    p_old=r_old.copy()\n",
    "    \n",
    "    for k in range(1,max_iters):    \n",
    "\n",
    "        alpha=np.dot(r_old,r_old)/np.dot(p_old,np.dot(A,p_old))\n",
    "        x_new=x_old+alpha*p_old\n",
    "        r_new=r_old-alpha*np.dot(A,p_old)\n",
    "\n",
    "        beta=np.dot(r_new,r_new)/np.dot(r_old,r_old)\n",
    "\n",
    "        p_new= r_new + beta * p_old\n",
    "\n",
    "        arr_x[k,:]=x_new.copy()\n",
    "        x_old=x_new.copy()\n",
    "        r_old=r_new.copy()\n",
    "        p_old=p_new.copy()\n",
    "\n",
    "        if np.allclose(r_new,np.zeros(N),rtol=1e-5,atol=1e-12):\n",
    "            print(\"Quitting after {0} iterations\".format(k))\n",
    "            break\n",
    "\n",
    "    arr_x=arr_x[:k+1,:]\n",
    "    \n",
    "    return arr_x\n",
    "\n",
    "\n",
    "def f_cg_generic(A,arr_x,b,max_iters):\n",
    "\n",
    "    x=arr_x[0,:].copy()\n",
    "    r_old=b-np.dot(A,x)\n",
    "    p=r_old.copy()\n",
    "    \n",
    "    for k in range(1,max_iters):    \n",
    "\n",
    "        Ap=np.dot(A,p)\n",
    "        rsquare=np.dot(r_old,r_old)\n",
    "        alpha=rsquare/np.dot(p,Ap)\n",
    "        x+=alpha*p\n",
    "        r_new=r_old-alpha*Ap\n",
    "\n",
    "        beta=np.dot(r_new,r_new)/rsquare\n",
    "\n",
    "        p= r_new + beta * p\n",
    "\n",
    "        arr_x[k,:]=x.copy()\n",
    "        r_old=r_new.copy()\n",
    "        # p_old=p_new.copy()\n",
    "\n",
    "        if np.allclose(r_new,np.zeros(N),rtol=1e-5,atol=1e-12):\n",
    "            print(\"Quitting after {0} iterations\".format(k))\n",
    "            break\n",
    "\n",
    "    arr_x=arr_x[:k+1,:]\n",
    "    \n",
    "    return arr_x\n",
    "\n",
    "\n",
    "\n",
    "def f_cg(arr_x,b,diag,max_iters):\n",
    "\n",
    "    x=arr_x[0,:].copy()\n",
    "    r_old= np.array([b[i] - x[i]*diag + x[(i-1+N)%N] + x[(i+1)%N] for i in range(N)])\n",
    "    p=r_old.copy()\n",
    "    \n",
    "    for k in range(1,max_iters):    \n",
    "\n",
    "        # Ap=np.dot(A,p)\n",
    "        Ap= np.array([p[i]*diag - p[(i-1+N)%N] - p[(i+1)%N] for i in range(N)])\n",
    "        \n",
    "        rsquare=np.dot(r_old,r_old)\n",
    "        alpha=rsquare/np.dot(p,Ap)\n",
    "        x+=alpha*p  # Update solution\n",
    "        r_new=r_old-alpha*Ap  # Update residue\n",
    "\n",
    "        beta=np.dot(r_new,r_new)/rsquare\n",
    "\n",
    "        p= r_new + beta * p\n",
    "\n",
    "        arr_x[k,:]=x.copy()\n",
    "        r_old=r_new.copy()\n",
    "\n",
    "        if np.allclose(r_new,np.zeros(N),rtol=1e-5,atol=1e-12):\n",
    "            print(\"Quitting after {0} iterations\".format(k))\n",
    "            break\n",
    "\n",
    "    arr_x=arr_x[:k+1,:]\n",
    "    \n",
    "    return arr_x\n"
   ]
  },
  {
   "cell_type": "code",
   "execution_count": 12,
   "id": "5c23fb42-ceff-4f0c-ab28-fb949c593f5e",
   "metadata": {},
   "outputs": [
    {
     "name": "stdout",
     "output_type": "stream",
     "text": [
      "Quitting after 9 iterations\n"
     ]
    },
    {
     "data": {
      "text/plain": [
       "True"
      ]
     },
     "execution_count": 12,
     "metadata": {},
     "output_type": "execute_result"
    }
   ],
   "source": [
    "max_iters=2000\n",
    "x_cg=np.ones((max_iters,N),dtype=np.float64)*0.0\n",
    "# x_cg=f_cg_generic(A,x_gs,b,max_iters)\n",
    "x_cg=f_cg(x_gs,b,scale,max_iters)\n",
    "\n",
    "np.allclose(x_cg[-1],x_exact)"
   ]
  },
  {
   "cell_type": "code",
   "execution_count": 17,
   "id": "513093e2-b140-481b-99d0-ceb1746026aa",
   "metadata": {},
   "outputs": [
    {
     "data": {
      "text/plain": [
       "array([5.65388373, 5.73855134, 5.88060446, 6.08146363, 6.34313744,\n",
       "       6.66824262, 7.06003023, 7.52241814, 7.06003023, 6.66824262,\n",
       "       6.34313744, 6.08146363, 5.88060446, 5.73855134, 5.65388373,\n",
       "       5.62575495])"
      ]
     },
     "execution_count": 17,
     "metadata": {},
     "output_type": "execute_result"
    }
   ],
   "source": []
  },
  {
   "cell_type": "markdown",
   "id": "0a79bb02-c0ca-416d-abac-c0e312d82101",
   "metadata": {},
   "source": [
    "### Plot  "
   ]
  },
  {
   "cell_type": "code",
   "execution_count": 13,
   "id": "d408fad4-ffa6-48f9-aa5c-d5abedeccad7",
   "metadata": {
    "tags": []
   },
   "outputs": [
    {
     "data": {
      "application/vnd.jupyter.widget-view+json": {
       "model_id": "69a1a952ab734d0f8dbb6789aa62fb28",
       "version_major": 2,
       "version_minor": 0
      },
      "image/png": "[encoded data removed]",
      "text/plain": [
       "Canvas(toolbar=Toolbar(toolitems=[('Home', 'Reset original view', 'home', 'home'), ('Back', 'Back to previous …"
      ]
     },
     "metadata": {},
     "output_type": "display_data"
    }
   ],
   "source": [
    "fig=plt.figure()\n",
    "\n",
    "# Jacobi\n",
    "arr=x_jc[:]\n",
    "fig.add_subplot(3,1,1)\n",
    "plt.text(50,0.2,\"Jacobi\",fontsize=12)\n",
    "for idx in range(arr.shape[1]):\n",
    "    y=np.abs(arr[:,idx]-np.ones(arr.shape[0])*x_exact[idx])\n",
    "    plt.plot(y,label=str(idx),marker='*',linestyle='')\n",
    "plt.legend(loc='upper right')\n",
    "plt.title(\"Variation of the Error with iterations\")\n",
    "plt.ylabel(\"Error\")\n",
    "plt.yscale('log')\n",
    "\n",
    "# Gauss-Seidel\n",
    "arr=x_gs[:]\n",
    "fig.add_subplot(3,1,2)\n",
    "for idx in range(arr.shape[1]):\n",
    "    y=np.abs(arr[:,idx]-np.ones(arr.shape[0])*x_exact[idx])\n",
    "    plt.plot(y,label=str(idx),linestyle='',marker='o')\n",
    "plt.text(50,0.2,\"Gauss-Seidel\",fontsize=12)\n",
    "plt.xlabel(\"Iteration\")\n",
    "plt.yscale('log')\n",
    "\n",
    "# Conjugate gradient\n",
    "arr=x_cg[:]\n",
    "fig.add_subplot(3,1,3)\n",
    "for idx in range(arr.shape[1]):\n",
    "    y=np.abs(arr[:,idx]-np.ones(arr.shape[0])*x_exact[idx])\n",
    "    plt.plot(y,label=str(idx),linestyle='',marker='o')\n",
    "plt.text(50,0.2,\"CG\",fontsize=12)\n",
    "plt.xlabel(\"Iteration\")\n",
    "plt.yscale('log')\n",
    "\n",
    "plt.show()\n"
   ]
  },
  {
   "cell_type": "code",
   "execution_count": 14,
   "id": "a0a23831-cb27-4973-a800-5beb8ead1731",
   "metadata": {
    "tags": []
   },
   "outputs": [],
   "source": [
    "# # Difference between GS and Jacobi\n",
    "# plt.figure()\n",
    "# plt.title(\"Difference between GS and Jacobi\")\n",
    "# num_iters=min(x_gs.shape[0],x_jc.shape[0])\n",
    "\n",
    "# for idx in range(N):\n",
    "#     y=x_gs[:num_iters,idx]-x_jc[:num_iters,idx]\n",
    "#     plt.plot(y,label=str(idx),marker='*',linestyle='')\n",
    "# plt.xlabel(\"Iteration\")"
   ]
  },
  {
   "cell_type": "code",
   "execution_count": 16,
   "id": "0be16740-9912-4418-922c-a733162375ed",
   "metadata": {},
   "outputs": [
    {
     "data": {
      "text/plain": [
       "<matplotlib.legend.Legend at 0x109477a00>"
      ]
     },
     "execution_count": 16,
     "metadata": {},
     "output_type": "execute_result"
    },
    {
     "data": {
      "application/vnd.jupyter.widget-view+json": {
       "model_id": "20ab85274be84dba9d97e0625149ce49",
       "version_major": 2,
       "version_minor": 0
      },
      "image/png": "[encoded data removed]",
      "text/plain": [
       "Canvas(toolbar=Toolbar(toolitems=[('Home', 'Reset original view', 'home', 'home'), ('Back', 'Back to previous …"
      ]
     },
     "metadata": {},
     "output_type": "display_data"
    }
   ],
   "source": [
    "iter_list=[0,1,5,8,-1]\n",
    "# iter_list=[0,50,100,200,300,400,499]\n",
    "arr=x_cg\n",
    "plt.figure()\n",
    "for itr in iter_list:\n",
    "    y=arr[itr,:]\n",
    "    # print(y)\n",
    "    plt.plot(y,label=str(itr),linestyle='',marker='D')\n",
    "plt.plot(x_exact,linestyle='-.',color='k',label='exact')\n",
    "plt.legend(loc='best')\n"
   ]
  },
  {
   "cell_type": "code",
   "execution_count": null,
   "id": "a0d82683-4683-452f-891a-bd18d4b4e5e9",
   "metadata": {},
   "outputs": [],
   "source": []
  },
  {
   "cell_type": "code",
   "execution_count": null,
   "id": "1085ebb7-759c-4970-9ccd-ad2e5ca591ab",
   "metadata": {},
   "outputs": [],
   "source": []
  }
 ],
 "metadata": {
  "kernelspec": {
   "display_name": "v3",
   "language": "python",
   "name": "vpy39"
  },
  "language_info": {
   "codemirror_mode": {
    "name": "ipython",
    "version": 3
   },
   "file_extension": ".py",
   "mimetype": "text/x-python",
   "name": "python",
   "nbconvert_exporter": "python",
   "pygments_lexer": "ipython3",
   "version": "3.9.7"
  }
 },
 "nbformat": 4,
 "nbformat_minor": 5
}
