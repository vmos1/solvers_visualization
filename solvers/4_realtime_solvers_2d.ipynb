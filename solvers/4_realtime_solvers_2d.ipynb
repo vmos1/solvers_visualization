{
 "cells": [
  {
   "cell_type": "markdown",
   "id": "b1167170-53da-425a-8a8f-a4a2edd4363e",
   "metadata": {},
   "source": [
    "# Realtime plots of running code\n",
    "March 30, 2022"
   ]
  },
  {
   "cell_type": "code",
   "execution_count": 1,
   "id": "06584c0c-9936-47d2-b28c-63dd474d015e",
   "metadata": {},
   "outputs": [],
   "source": [
    "import numpy as np\n",
    "import matplotlib.pyplot as plt\n",
    "from IPython.display import clear_output\n",
    "\n",
    "import subprocess as sp"
   ]
  },
  {
   "cell_type": "markdown",
   "id": "bad23300-c376-4624-8978-ee07ade0a480",
   "metadata": {},
   "source": [
    "## Run the code \n",
    "Can do this in a separate terminal as well"
   ]
  },
  {
   "cell_type": "code",
   "execution_count": 9,
   "id": "69c01c78-f168-40d9-8109-1b96e32c44b2",
   "metadata": {},
   "outputs": [],
   "source": [
    "L=32"
   ]
  },
  {
   "cell_type": "code",
   "execution_count": 10,
   "id": "405db3b9-cf28-4f04-8d40-242b1826af58",
   "metadata": {},
   "outputs": [
    {
     "name": "stdout",
     "output_type": "stream",
     "text": [
      "python run_solvers_laplace_2d.py --solver CG --m 0.2 --iters 3000 --L 32\n"
     ]
    }
   ],
   "source": [
    "fname='run_solvers_laplace_2d.py --solver CG --m 0.2 --iters 3000 --L {0}'.format(L)\n",
    "# fname='run_solvers_laplace_2d.py --solver GS --m 0.2 --iters 3000 --L {0}'.format(L)\n",
    "# fname='run_solvers_laplace_2d.py --solver Jacobi --m 0.2 --iters 3000 --L {0}'.format(L)\n",
    "cmd='python {0}'.format(fname)\n",
    "print(cmd)"
   ]
  },
  {
   "cell_type": "code",
   "execution_count": 11,
   "id": "632aa3c7-6204-4a54-8513-2f221e743c43",
   "metadata": {
    "tags": []
   },
   "outputs": [
    {
     "name": "stdout",
     "output_type": "stream",
     "text": [
      "b'Running CG with m 0.20, L 32 for max 3000 iters\\nQuitting after 77 iterations\\n'\n"
     ]
    }
   ],
   "source": [
    "op=sp.check_output(cmd,shell=True)\n",
    "print(op)"
   ]
  },
  {
   "cell_type": "markdown",
   "id": "e0f63f61-64d9-43bd-9a33-5a3b48b61095",
   "metadata": {},
   "source": [
    "## Plot the solution from saved file, as code runs.\n",
    "\n",
    "Reads data from file. \n",
    "\n",
    "Data must be in the form : iter,x[0],x[1],x[2]...\\n format\n",
    "\n",
    "i.e. iteration number and solution, comma separated with new line at the end."
   ]
  },
  {
   "cell_type": "code",
   "execution_count": 12,
   "id": "f8873435-bb7a-4a31-a26c-7e729f6cf764",
   "metadata": {},
   "outputs": [],
   "source": [
    "## Convert solution from 1D array to 2D array\n",
    "def f_get_2d_image(arr,L):\n",
    "    img_arr=np.zeros((L,L),dtype=np.float64)\n",
    "    for x in range(L):\n",
    "        for y in range(L):\n",
    "            img_arr[x,y]=arr[x+y*L]\n",
    "    \n",
    "    return img_arr\n"
   ]
  },
  {
   "cell_type": "code",
   "execution_count": 13,
   "id": "7937eeeb-e3a0-4cd9-84a6-af6ce8ed373a",
   "metadata": {},
   "outputs": [],
   "source": [
    "def f_plot_realtime(op_file,first=0,last=50,step=1,pause=1,last_only=False):\n",
    "    '''\n",
    "    num= Number of plots you want\n",
    "    pause=time before it loads next dataset\n",
    "    last_only= True implies it will only plot the last line of the file\n",
    "    \n",
    "    '''\n",
    "    \n",
    "    plt.rcParams[\"figure.figsize\"]=(9,9)\n",
    "    for i in range(first,last,step):\n",
    "        # Read file. Do this each time so that update of file by the code can be taken into account\n",
    "        with open(op_file,'r') as f:\n",
    "            lst=f.readlines()\n",
    "\n",
    "        if last_only: idx=-1 ## Plot just the last entry of the file\n",
    "        else: idx=i\n",
    "        \n",
    "        # return lst\n",
    "        total=len(lst)\n",
    "        if idx>=total: break\n",
    "\n",
    "        ## Pick selected iteration from file\n",
    "        k=int(lst[idx].split(',')[0])\n",
    "        \n",
    "        y=np.array(lst[idx].split(',')[1:]).astype(np.float64)\n",
    "        L=int(np.sqrt(y.shape[0]))\n",
    "        img_arr=f_get_2d_image(y,L)\n",
    "        clear_output(wait=True)  \n",
    "        # print(i,img_arr)\n",
    "        plt.title('Iteration={0}'.format(k))\n",
    "        plt.imshow(img_arr)\n",
    "        plt.pause(pause)\n",
    "        plt.draw()\n"
   ]
  },
  {
   "cell_type": "code",
   "execution_count": 14,
   "id": "eac2a5f0-ddbf-4227-b641-24dd84c888c9",
   "metadata": {},
   "outputs": [
    {
     "data": {
      "image/png": "[encoded data removed]",
      "text/plain": [
       "<Figure size 648x648 with 1 Axes>"
      ]
     },
     "metadata": {
      "needs_background": "light"
     },
     "output_type": "display_data"
    },
    {
     "data": {
      "text/plain": [
       "<Figure size 648x648 with 0 Axes>"
      ]
     },
     "metadata": {},
     "output_type": "display_data"
    }
   ],
   "source": [
    "ans=f_plot_realtime(op_file='op2.out',first=0,last=150,step=3,pause=1,last_only=False)"
   ]
  },
  {
   "cell_type": "code",
   "execution_count": null,
   "id": "feecb59c-a337-4ab7-b819-d0f5255292ef",
   "metadata": {},
   "outputs": [],
   "source": []
  },
  {
   "cell_type": "code",
   "execution_count": null,
   "id": "b23d625d-d320-4fd7-8e4b-0d5893636a1f",
   "metadata": {},
   "outputs": [],
   "source": []
  }
 ],
 "metadata": {
  "kernelspec": {
   "display_name": "v3",
   "language": "python",
   "name": "vpy39"
  },
  "language_info": {
   "codemirror_mode": {
    "name": "ipython",
    "version": 3
   },
   "file_extension": ".py",
   "mimetype": "text/x-python",
   "name": "python",
   "nbconvert_exporter": "python",
   "pygments_lexer": "ipython3",
   "version": "3.9.7"
  }
 },
 "nbformat": 4,
 "nbformat_minor": 5
}
