{
 "cells": [
  {
   "cell_type": "markdown",
   "id": "b1167170-53da-425a-8a8f-a4a2edd4363e",
   "metadata": {},
   "source": [
    "# Realtime plots of running code\n",
    "March 30, 2022"
   ]
  },
  {
   "cell_type": "code",
   "execution_count": 1,
   "id": "06584c0c-9936-47d2-b28c-63dd474d015e",
   "metadata": {},
   "outputs": [],
   "source": [
    "import numpy as np\n",
    "import matplotlib.pyplot as plt\n",
    "from IPython.display import clear_output\n",
    "\n",
    "import subprocess as sp"
   ]
  },
  {
   "cell_type": "markdown",
   "id": "bad23300-c376-4624-8978-ee07ade0a480",
   "metadata": {},
   "source": [
    "## Run the code \n",
    "Can do this in a separate terminal as well"
   ]
  },
  {
   "cell_type": "code",
   "execution_count": 2,
   "id": "405db3b9-cf28-4f04-8d40-242b1826af58",
   "metadata": {},
   "outputs": [
    {
     "name": "stdout",
     "output_type": "stream",
     "text": [
      "make \n",
      " ./torus_md\n"
     ]
    }
   ],
   "source": [
    "cmd='make \\n ./torus_md'\n",
    "print(cmd)"
   ]
  },
  {
   "cell_type": "code",
   "execution_count": 3,
   "id": "632aa3c7-6204-4a54-8513-2f221e743c43",
   "metadata": {
    "tags": []
   },
   "outputs": [
    {
     "name": "stderr",
     "output_type": "stream",
     "text": [
      "torus_md.cpp:38:11: warning: unused variable 'R_skin' [-Wunused-variable]\n",
      "  double  R_skin = 4.0;\n",
      "          ^\n",
      "torus_md.cpp:37:10: warning: unused variable 'R_cut' [-Wunused-variable]\n",
      "  double R_cut = 2.0;\n",
      "         ^\n",
      "2 warnings generated.\n"
     ]
    },
    {
     "name": "stdout",
     "output_type": "stream",
     "text": [
      "b'c++ -g -Wall   -c -o torus_md.o torus_md.cpp\\ng++ -g -Wall  torus_md.o   -o torus_md\\n'\n"
     ]
    }
   ],
   "source": [
    "op=sp.check_output(cmd,shell=True)\n",
    "print(op)"
   ]
  },
  {
   "cell_type": "markdown",
   "id": "e0f63f61-64d9-43bd-9a33-5a3b48b61095",
   "metadata": {},
   "source": [
    "## Plot the solution from saved file, as code runs.\n",
    "\n",
    "Reads data from file. \n",
    "\n",
    "Data must be in the form : x1,y1\\tx2,y2\\tx3,y3...xn,yn\\n format\n",
    "\n",
    "i.e. x,y for each point separated by \\t with new line at the end."
   ]
  },
  {
   "cell_type": "code",
   "execution_count": 32,
   "id": "7937eeeb-e3a0-4cd9-84a6-af6ce8ed373a",
   "metadata": {},
   "outputs": [],
   "source": [
    "def f_plot_realtime(op_file,first=0,last=50,step=1,pause=1,last_only=False):\n",
    "    '''\n",
    "    num= Number of plots you want\n",
    "    pause=time before it loads next dataset\n",
    "    last_only= True implies it will only plot the last line of the file\n",
    "    \n",
    "    '''\n",
    "    \n",
    "    plt.rcParams[\"figure.figsize\"]=(4,4)\n",
    "    for i in range(first,last,step):\n",
    "        # Read file. Do this each time so that update of file by the code can be taken into account\n",
    "        with open(op_file,'r') as f:\n",
    "            lst=f.readlines()\n",
    "        \n",
    "        print(len(lst))\n",
    "        if last_only: idx=-1 ## Plot just the last entry of the file\n",
    "        else: idx=i\n",
    "        \n",
    "        total=len(lst)\n",
    "        if idx>=total: break\n",
    "\n",
    "        ## Pick selected iteration from file\n",
    "        arr=np.array([ii.split(',') for ii in lst[idx].split('\\t')][:-1],dtype=np.float64)\n",
    "        clear_output(wait=True)  \n",
    "        plt.title('Iteration={0}'.format(idx))\n",
    "        x=arr[:,0]\n",
    "        y=arr[:,1]\n",
    "        # print(x.shape,y.shape)\n",
    "        L=x.shape[0]\n",
    "        plt.scatter(x,y,marker='o',s=100)\n",
    "        # plt.xlim(0,L,2)\n",
    "        # plt.ylim(0,L,2)\n",
    "        plt.pause(pause)\n",
    "        plt.draw()\n"
   ]
  },
  {
   "cell_type": "code",
   "execution_count": 33,
   "id": "eac2a5f0-ddbf-4227-b641-24dd84c888c9",
   "metadata": {},
   "outputs": [
    {
     "data": {
      "image/png": "[encoded data removed]",
      "text/plain": [
       "<Figure size 288x288 with 1 Axes>"
      ]
     },
     "metadata": {
      "needs_background": "light"
     },
     "output_type": "display_data"
    },
    {
     "data": {
      "text/plain": [
       "<Figure size 288x288 with 0 Axes>"
      ]
     },
     "metadata": {},
     "output_type": "display_data"
    }
   ],
   "source": [
    "ans=f_plot_realtime(op_file='op.out',first=0,last=81,step=20,pause=1,last_only=False)"
   ]
  },
  {
   "cell_type": "code",
   "execution_count": null,
   "id": "feecb59c-a337-4ab7-b819-d0f5255292ef",
   "metadata": {},
   "outputs": [],
   "source": []
  },
  {
   "cell_type": "code",
   "execution_count": 9,
   "id": "dd06cc63-c1d1-497b-b2da-c3d1f9137b31",
   "metadata": {},
   "outputs": [
    {
     "data": {
      "text/plain": [
       "\u001b[0;31mSignature:\u001b[0m\n",
       " \u001b[0mplt\u001b[0m\u001b[0;34m.\u001b[0m\u001b[0mscatter\u001b[0m\u001b[0;34m(\u001b[0m\u001b[0;34m\u001b[0m\n",
       "\u001b[0;34m\u001b[0m    \u001b[0mx\u001b[0m\u001b[0;34m,\u001b[0m\u001b[0;34m\u001b[0m\n",
       "\u001b[0;34m\u001b[0m    \u001b[0my\u001b[0m\u001b[0;34m,\u001b[0m\u001b[0;34m\u001b[0m\n",
       "\u001b[0;34m\u001b[0m    \u001b[0ms\u001b[0m\u001b[0;34m=\u001b[0m\u001b[0;32mNone\u001b[0m\u001b[0;34m,\u001b[0m\u001b[0;34m\u001b[0m\n",
       "\u001b[0;34m\u001b[0m    \u001b[0mc\u001b[0m\u001b[0;34m=\u001b[0m\u001b[0;32mNone\u001b[0m\u001b[0;34m,\u001b[0m\u001b[0;34m\u001b[0m\n",
       "\u001b[0;34m\u001b[0m    \u001b[0mmarker\u001b[0m\u001b[0;34m=\u001b[0m\u001b[0;32mNone\u001b[0m\u001b[0;34m,\u001b[0m\u001b[0;34m\u001b[0m\n",
       "\u001b[0;34m\u001b[0m    \u001b[0mcmap\u001b[0m\u001b[0;34m=\u001b[0m\u001b[0;32mNone\u001b[0m\u001b[0;34m,\u001b[0m\u001b[0;34m\u001b[0m\n",
       "\u001b[0;34m\u001b[0m    \u001b[0mnorm\u001b[0m\u001b[0;34m=\u001b[0m\u001b[0;32mNone\u001b[0m\u001b[0;34m,\u001b[0m\u001b[0;34m\u001b[0m\n",
       "\u001b[0;34m\u001b[0m    \u001b[0mvmin\u001b[0m\u001b[0;34m=\u001b[0m\u001b[0;32mNone\u001b[0m\u001b[0;34m,\u001b[0m\u001b[0;34m\u001b[0m\n",
       "\u001b[0;34m\u001b[0m    \u001b[0mvmax\u001b[0m\u001b[0;34m=\u001b[0m\u001b[0;32mNone\u001b[0m\u001b[0;34m,\u001b[0m\u001b[0;34m\u001b[0m\n",
       "\u001b[0;34m\u001b[0m    \u001b[0malpha\u001b[0m\u001b[0;34m=\u001b[0m\u001b[0;32mNone\u001b[0m\u001b[0;34m,\u001b[0m\u001b[0;34m\u001b[0m\n",
       "\u001b[0;34m\u001b[0m    \u001b[0mlinewidths\u001b[0m\u001b[0;34m=\u001b[0m\u001b[0;32mNone\u001b[0m\u001b[0;34m,\u001b[0m\u001b[0;34m\u001b[0m\n",
       "\u001b[0;34m\u001b[0m    \u001b[0;34m*\u001b[0m\u001b[0;34m,\u001b[0m\u001b[0;34m\u001b[0m\n",
       "\u001b[0;34m\u001b[0m    \u001b[0medgecolors\u001b[0m\u001b[0;34m=\u001b[0m\u001b[0;32mNone\u001b[0m\u001b[0;34m,\u001b[0m\u001b[0;34m\u001b[0m\n",
       "\u001b[0;34m\u001b[0m    \u001b[0mplotnonfinite\u001b[0m\u001b[0;34m=\u001b[0m\u001b[0;32mFalse\u001b[0m\u001b[0;34m,\u001b[0m\u001b[0;34m\u001b[0m\n",
       "\u001b[0;34m\u001b[0m    \u001b[0mdata\u001b[0m\u001b[0;34m=\u001b[0m\u001b[0;32mNone\u001b[0m\u001b[0;34m,\u001b[0m\u001b[0;34m\u001b[0m\n",
       "\u001b[0;34m\u001b[0m    \u001b[0;34m**\u001b[0m\u001b[0mkwargs\u001b[0m\u001b[0;34m,\u001b[0m\u001b[0;34m\u001b[0m\n",
       "\u001b[0;34m\u001b[0m\u001b[0;34m)\u001b[0m\u001b[0;34m\u001b[0m\u001b[0;34m\u001b[0m\u001b[0m\n",
       "\u001b[0;31mDocstring:\u001b[0m\n",
       "A scatter plot of *y* vs. *x* with varying marker size and/or color.\n",
       "\n",
       "Parameters\n",
       "----------\n",
       "x, y : float or array-like, shape (n, )\n",
       "    The data positions.\n",
       "\n",
       "s : float or array-like, shape (n, ), optional\n",
       "    The marker size in points**2.\n",
       "    Default is ``rcParams['lines.markersize'] ** 2``.\n",
       "\n",
       "c : array-like or list of colors or color, optional\n",
       "    The marker colors. Possible values:\n",
       "\n",
       "    - A scalar or sequence of n numbers to be mapped to colors using\n",
       "      *cmap* and *norm*.\n",
       "    - A 2D array in which the rows are RGB or RGBA.\n",
       "    - A sequence of colors of length n.\n",
       "    - A single color format string.\n",
       "\n",
       "    Note that *c* should not be a single numeric RGB or RGBA sequence\n",
       "    because that is indistinguishable from an array of values to be\n",
       "    colormapped. If you want to specify the same RGB or RGBA value for\n",
       "    all points, use a 2D array with a single row.  Otherwise, value-\n",
       "    matching will have precedence in case of a size matching with *x*\n",
       "    and *y*.\n",
       "\n",
       "    If you wish to specify a single color for all points\n",
       "    prefer the *color* keyword argument.\n",
       "\n",
       "    Defaults to `None`. In that case the marker color is determined\n",
       "    by the value of *color*, *facecolor* or *facecolors*. In case\n",
       "    those are not specified or `None`, the marker color is determined\n",
       "    by the next color of the ``Axes``' current \"shape and fill\" color\n",
       "    cycle. This cycle defaults to :rc:`axes.prop_cycle`.\n",
       "\n",
       "marker : `~.markers.MarkerStyle`, default: :rc:`scatter.marker`\n",
       "    The marker style. *marker* can be either an instance of the class\n",
       "    or the text shorthand for a particular marker.\n",
       "    See :mod:`matplotlib.markers` for more information about marker\n",
       "    styles.\n",
       "\n",
       "cmap : str or `~matplotlib.colors.Colormap`, default: :rc:`image.cmap`\n",
       "    A `.Colormap` instance or registered colormap name. *cmap* is only\n",
       "    used if *c* is an array of floats.\n",
       "\n",
       "norm : `~matplotlib.colors.Normalize`, default: None\n",
       "    If *c* is an array of floats, *norm* is used to scale the color\n",
       "    data, *c*, in the range 0 to 1, in order to map into the colormap\n",
       "    *cmap*.\n",
       "    If *None*, use the default `.colors.Normalize`.\n",
       "\n",
       "vmin, vmax : float, default: None\n",
       "    *vmin* and *vmax* are used in conjunction with the default norm to\n",
       "    map the color array *c* to the colormap *cmap*. If None, the\n",
       "    respective min and max of the color array is used.\n",
       "    It is deprecated to use *vmin*/*vmax* when *norm* is given.\n",
       "\n",
       "alpha : float, default: None\n",
       "    The alpha blending value, between 0 (transparent) and 1 (opaque).\n",
       "\n",
       "linewidths : float or array-like, default: :rc:`lines.linewidth`\n",
       "    The linewidth of the marker edges. Note: The default *edgecolors*\n",
       "    is 'face'. You may want to change this as well.\n",
       "\n",
       "edgecolors : {'face', 'none', *None*} or color or sequence of color, default: :rc:`scatter.edgecolors`\n",
       "    The edge color of the marker. Possible values:\n",
       "\n",
       "    - 'face': The edge color will always be the same as the face color.\n",
       "    - 'none': No patch boundary will be drawn.\n",
       "    - A color or sequence of colors.\n",
       "\n",
       "    For non-filled markers, *edgecolors* is ignored. Instead, the color\n",
       "    is determined like with 'face', i.e. from *c*, *colors*, or\n",
       "    *facecolors*.\n",
       "\n",
       "plotnonfinite : bool, default: False\n",
       "    Whether to plot points with nonfinite *c* (i.e. ``inf``, ``-inf``\n",
       "    or ``nan``). If ``True`` the points are drawn with the *bad*\n",
       "    colormap color (see `.Colormap.set_bad`).\n",
       "\n",
       "Returns\n",
       "-------\n",
       "`~matplotlib.collections.PathCollection`\n",
       "\n",
       "Other Parameters\n",
       "----------------\n",
       "**kwargs : `~matplotlib.collections.Collection` properties\n",
       "\n",
       "See Also\n",
       "--------\n",
       "plot : To plot scatter plots when markers are identical in size and\n",
       "    color.\n",
       "\n",
       "Notes\n",
       "-----\n",
       "* The `.plot` function will be faster for scatterplots where markers\n",
       "  don't vary in size or color.\n",
       "\n",
       "* Any or all of *x*, *y*, *s*, and *c* may be masked arrays, in which\n",
       "  case all masks will be combined and only unmasked points will be\n",
       "  plotted.\n",
       "\n",
       "* Fundamentally, scatter works with 1D arrays; *x*, *y*, *s*, and *c*\n",
       "  may be input as N-D arrays, but within scatter they will be\n",
       "  flattened. The exception is *c*, which will be flattened only if its\n",
       "  size matches the size of *x* and *y*.\n",
       "\n",
       ".. note::\n",
       "    In addition to the above described arguments, this function can take\n",
       "    a *data* keyword argument. If such a *data* argument is given,\n",
       "    the following arguments can also be string ``s``, which is\n",
       "    interpreted as ``data[s]`` (unless this raises an exception):\n",
       "    *x*, *y*, *s*, *linewidths*, *edgecolors*, *c*, *facecolor*, *facecolors*, *color*.\n",
       "\n",
       "    Objects passed as **data** must support item access (``data[s]``) and\n",
       "    membership test (``s in data``).\n",
       "\u001b[0;31mFile:\u001b[0m      /opt/anaconda3/envs/v3/lib/python3.9/site-packages/matplotlib/pyplot.py\n",
       "\u001b[0;31mType:\u001b[0m      function\n"
      ]
     },
     "metadata": {},
     "output_type": "display_data"
    }
   ],
   "source": [
    "? plt.scatter"
   ]
  },
  {
   "cell_type": "code",
   "execution_count": null,
   "id": "d9fc2d8c-0afc-4071-b98b-cdd2a9db7ac9",
   "metadata": {},
   "outputs": [],
   "source": []
  }
 ],
 "metadata": {
  "kernelspec": {
   "display_name": "v3",
   "language": "python",
   "name": "vpy39"
  },
  "language_info": {
   "codemirror_mode": {
    "name": "ipython",
    "version": 3
   },
   "file_extension": ".py",
   "mimetype": "text/x-python",
   "name": "python",
   "nbconvert_exporter": "python",
   "pygments_lexer": "ipython3",
   "version": "3.9.7"
  }
 },
 "nbformat": 4,
 "nbformat_minor": 5
}
